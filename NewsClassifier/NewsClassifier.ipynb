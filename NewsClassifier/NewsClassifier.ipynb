{
 "cells": [
  {
   "cell_type": "markdown",
   "metadata": {},
   "source": [
    "# COMP47670 Assignment 2: Multi-Class Text Classification\n",
    "## Description\n",
    "### Objective\n",
    "The objective of this assignment is to\n",
    "- Scrape a corpus of news stories from a set of [web pages](http://mlg.ucd.ie/modules/COMP41680/assignment2/index.html)\n",
    "- Pre-process the data\n",
    "- Evaluate the performance of both binary and multi-label text classification algorithms on the data.\n",
    "\n",
    "### Task 1. Data Collection\n",
    "1. Select three of the 9 news categories: [Business, Politics, US-News]\n",
    "2. Retrieve details from the link, parse the HTML to extract the following information:\n",
    "  - The title of the news story.\n",
    "  - The short text snippet for the story which represents the start of the complete news article.\n",
    "  - The category label assigned to the story.\n",
    "3. Store the parsed data that you have collected in an appropriate format."
   ]
  },
  {
   "cell_type": "code",
   "execution_count": 70,
   "metadata": {
    "pycharm": {
     "name": "#%% Import libraries and define the constants\n"
    }
   },
   "outputs": [],
   "source": [
    "import requests\n",
    "from bs4 import BeautifulSoup\n",
    "import json\n",
    "import os.path\n",
    "import traceback\n",
    "from termcolor import colored\n",
    "from glob import glob\n",
    "from tqdm import tqdm\n",
    "import pandas as pd\n",
    "%matplotlib inline\n",
    "\n",
    "BASE_URL = \"http://mlg.ucd.ie/modules/COMP41680/assignment2/month-\"\n",
    "CATEGORIES = ['Business', 'Politics', 'US-News']\n",
    "MONTHS = ['jan', 'feb', 'mar', 'apr', 'may', 'jun', 'jul', 'aug', 'sep', 'oct', 'nov', 'dec']\n",
    "PAGE_PER_MONTH = 31\n",
    "NEWS_PAGES_DIR = \"./data/raw_data\""
   ]
  },
  {
   "cell_type": "markdown",
   "metadata": {},
   "source": [
    "The code in the next part indicates a class that is used to scrap, merge, clean, and store the data\n",
    "from the web page. The data is stored in .json format.\n",
    "\n",
    "*Note: Through testing, We notice there is no anti-scraping mechanism used on the website, and the time\n",
    " of scraping is very short. Therefore, we do not design a breakpoint resume function.*"
   ]
  },
  {
   "cell_type": "code",
   "execution_count": 1,
   "metadata": {
    "pycharm": {
     "name": "#%% News Scraper class\n"
    }
   },
   "outputs": [],
   "source": [
    "class NewsScraper:\n",
    "    def __init__(self):\n",
    "        self.urls = []\n",
    "        self.pages_stats = {}\n",
    "        self.news = []\n",
    "        self.news_selected = []\n",
    "        self.news_month = []\n",
    "        self.news_pages_paths = None\n",
    "\n",
    "    # formulate the link of months\n",
    "    def initializer(self):\n",
    "        for month in MONTHS:\n",
    "            self.urls.append(BASE_URL + month)\n",
    "\n",
    "    # web-scraping main\n",
    "    def pages_scraper(self):\n",
    "        for url_mon in self.urls:\n",
    "            page = None\n",
    "            for page_num in range(1, PAGE_PER_MONTH + 1):\n",
    "                try:\n",
    "                    # parse a single page\n",
    "                    page = self.page_scraper(url_mon, page_num)\n",
    "                    with open(\"data/raw_data/{}_{}.json\".format(url_mon[-3:], page_num), \"w\", encoding='utf-8') as f:\n",
    "                        json.dump(\n",
    "                            {\"page\": page},\n",
    "                            f,\n",
    "                            indent=4,\n",
    "                            separators=(',', ': '),\n",
    "                            sort_keys=False,\n",
    "                            ensure_ascii=False\n",
    "                        )\n",
    "                except Exception as e:\n",
    "                    print(\"-\" * 30)\n",
    "                    print(colored(\"AN ERROR OCCURRED: {}\\n\".format(e), 'red'))\n",
    "                print(colored(\"Finished - Month: {} - page {} with {} news\".format(url_mon[-3:], page_num, len(page)), 'green', attrs=['bold']))\n",
    "\n",
    "                self.pages_stats[\"{}_{}\".format(url_mon[-3:], page_num)] = {\"scraped\": len(page)}\n",
    "                self.save_stats()\n",
    "\n",
    "    # scrap and parse a singe web page\n",
    "    def page_scraper(self, url_mon, page_num):\n",
    "        page_news = []\n",
    "        page_num = str(page_num).zfill(3)\n",
    "        url = url_mon + \"-\" + page_num + \".html\"\n",
    "        try:\n",
    "            try:\n",
    "                source = requests.get(url, timeout=20)\n",
    "            except Exception:\n",
    "                    return\n",
    "\n",
    "            soup = BeautifulSoup(source.content, features=\"html.parser\")\n",
    "            for article in soup.find_all(\"div\", class_=\"article\"):\n",
    "                try:\n",
    "                    title = article.find(\"a\").text\n",
    "                except:\n",
    "                    title = None\n",
    "                if title == \"null\":\n",
    "                    title = None\n",
    "\n",
    "                try:\n",
    "                    category = article.find_all(class_ = \"metadata\")[1].text[10:]\n",
    "                except:\n",
    "                    category = None\n",
    "                if category == \"null\":\n",
    "                    category = None\n",
    "\n",
    "                try:\n",
    "                    snippet = article.find(\"p\", class_=\"snippet\").text\n",
    "                except:\n",
    "                    snippet = None\n",
    "                if snippet == \"null\":\n",
    "                    snippet =None\n",
    "\n",
    "                news = {\n",
    "                    \"title\": title,\n",
    "                    \"category\": category,\n",
    "                    \"snippet\": snippet\n",
    "                    # \"link\": link\n",
    "                }\n",
    "                page_news.append(news)\n",
    "            return page_news\n",
    "\n",
    "        except Exception as e:\n",
    "            print(\"-\" * 30)\n",
    "            print(colored(\"ERROR: {}\\n{}URL: {}\".format(e, traceback.format_exc(), url), 'red'))\n",
    "            return\n",
    "\n",
    "    # save the status of scraping\n",
    "    def save_stats(self):\n",
    "        with open(\"data/stats/pages_stats.json\", \"w\", encoding='utf-8') as f:\n",
    "            json.dump(\n",
    "                self.pages_stats,\n",
    "                f,\n",
    "                indent=4,\n",
    "                separators=(',', ': '),\n",
    "                sort_keys=False,\n",
    "                ensure_ascii=False\n",
    "            )\n",
    "\n",
    "    # merging process\n",
    "    def pages_merger(self):\n",
    "        self.news_pages_paths = glob(\"{}/*.json\".format(NEWS_PAGES_DIR))\n",
    "        self.merge_news()\n",
    "        self.remove_invalid_news()\n",
    "        self.dump_news()\n",
    "        self.merge_monthly_news()\n",
    "        self.select_news()\n",
    "\n",
    "    # used to merge the raw news data\n",
    "    def merge_news(self):\n",
    "        print(colored(\"Merging {} news pages...\".format(len(self.news_pages_paths)), 'yellow'))\n",
    "        for news_page_path in tqdm(self.news_pages_paths):\n",
    "            with open(news_page_path, \"r\", encoding=\"utf-8\") as f:\n",
    "                self.news += json.load(f)[\"page\"]\n",
    "        print(colored(\"Pages merged to get a total of {} pieces of news\".format(len(self.news)), 'green', attrs=[\"bold\"]))\n",
    "\n",
    "    # remove the invalid news (information loss or be null)\n",
    "    def remove_invalid_news(self):\n",
    "        print(colored(\"Removing invalid news...\", 'yellow'))\n",
    "        self.news = [news for news in self.news if None not in [news[\"title\"], news[\"category\"], news[\"snippet\"]]]\n",
    "        self.news = [news for news in self.news if \"\" not in [news[\"title\"], news[\"category\"], news[\"snippet\"]]]\n",
    "        print(colored(\"{} valid news\".format(len(self.news)), 'green', attrs=[\"bold\"]))\n",
    "\n",
    "    # store news\n",
    "    def dump_news(self):\n",
    "        print(colored(\"Dumping news...\", 'yellow'))\n",
    "        with open(\"data/data_merged/news.json\", \"w\", encoding='utf-8') as f:\n",
    "                    json.dump({\"news\": self.news}, f, indent=4, separators=(',', ': '),\n",
    "                              sort_keys=False, ensure_ascii=False)\n",
    "        print(colored(\"Saved all {} news!\".format(len(self.news)), 'green', attrs=[\"bold\"]))\n",
    "\n",
    "    # select required 3 categories of news from the merged clean data\n",
    "    def select_news(self):\n",
    "        print(colored(\"Select news in categories: \".join(CATEGORIES), 'yellow'))\n",
    "        self.news_selected = [news for news in self.news if news[\"category\"] in CATEGORIES]\n",
    "        with open(\"data/data_selected/news_selected.json\", \"w\", encoding='utf-8') as f:\n",
    "                    json.dump({\"news\": self.news_selected}, f, indent=4, separators=(',', ': '), sort_keys=False, ensure_ascii=False)\n",
    "        print(colored(\"Saved all {} selected news!\".format(len(self.news_selected)), 'green', attrs=[\"bold\"]))\n",
    "\n",
    "    # store the monthly news for future use\n",
    "    def merge_monthly_news(self):\n",
    "        for month in MONTHS:\n",
    "            monthly_pages_paths = glob(\"{}/{}_*.json\".format(NEWS_PAGES_DIR, month))\n",
    "            print(colored(\"Merging monthly news of {}...\".format(month), 'yellow'))\n",
    "            for monthly_pages_path in monthly_pages_paths:\n",
    "                with open(monthly_pages_path, \"r\", encoding=\"utf-8\") as f:\n",
    "                    self.news_month += json.load(f)[\"page\"]\n",
    "            print(colored(\"Dumping monthly news of {}...\".format(month), 'yellow'))\n",
    "            with open(\"data/raw_data_merged_monthly/{}.json\".format(month), \"w\", encoding='utf-8') as f:\n",
    "                json.dump({\"news\": self.news_month}, f, indent=4, separators=(',', ': '), sort_keys=False, ensure_ascii=False)\n",
    "                print(colored(\"Saved all {} news!\".format(len(self.news_month)), 'green', attrs=[\"bold\"]))\n",
    "                self.news_month.clear()\n",
    "\n",
    "    # run the scraper\n",
    "    def run(self):\n",
    "        self.initializer()\n",
    "        self.pages_scraper()\n",
    "        self.pages_merger()"
   ]
  },
  {
   "cell_type": "markdown",
   "metadata": {
    "pycharm": {
     "name": "#%% md\n"
    }
   },
   "source": [
    "In the following part, an instance of scraper is created and run"
   ]
  },
  {
   "cell_type": "code",
   "execution_count": 2,
   "metadata": {
    "pycharm": {
     "name": "#%% do web scraping\n"
    }
   },
   "outputs": [],
   "source": [
    "scraper = NewsScraper()\n",
    "scraper.run()"
   ]
  },
  {
   "cell_type": "markdown",
   "metadata": {
    "pycharm": {
     "name": "#%% md\n"
    }
   },
   "source": [
    "### Task 2. Binary Text Classification\n",
    "1. Load the data from Task 1 and create a set of documents, one per news story. Each document should consist of the concatenation of the story’s title and text snippet. Each document should also have a class label, based on the story’s news category.\n",
    "2. For each unique pair of categories (A,B) from the three that you selected:\n",
    "    1. Apply appropriate preprocessing steps to create a numeric representation of the documents\n",
    "    from these two categories, suitable for classification.\n",
    "    2. Train a classification model using a binary classifier of your choice,\n",
    "    which can distinguish documents in the category A from documents in the category B.\n",
    "    3. Test the predictions of the classification model using an appropriate evaluation strategy.\n",
    "    Report and discuss the evaluation results.\n"
   ]
  },
  {
   "cell_type": "code",
   "source": [
    "from sklearn.feature_extraction.text import CountVectorizer, TfidfVectorizer\n",
    "from nltk import WordNetLemmatizer\n",
    "from nltk.stem.porter import PorterStemmer\n",
    "from nltk.corpus import stopwords\n",
    "from sklearn.model_selection import train_test_split\n",
    "from sklearn.neighbors import KNeighborsClassifier\n",
    "from sklearn.naive_bayes import MultinomialNB\n",
    "from sklearn.metrics import accuracy_score, classification_report, confusion_matrix, ConfusionMatrixDisplay, precision_score, recall_score, f1_score\n",
    "from sklearn.model_selection import cross_val_score, RepeatedKFold\n",
    "\n",
    "SELECTED_DATA_DIR = \"./data/data_selected\""
   ],
   "metadata": {
    "collapsed": false,
    "pycharm": {
     "name": "#%% Import libraries and define the constants for Task 2\n"
    }
   },
   "execution_count": 71,
   "outputs": []
  },
  {
   "cell_type": "code",
   "execution_count": 81,
   "outputs": [],
   "source": [
    "class TextClassifier():\n",
    "    def __init__(self, category1=CATEGORIES[0], category2=CATEGORIES[1], isMulti=False):\n",
    "        self.categories = [category1, category2] if not isMulti else CATEGORIES\n",
    "        self.isMulti = isMulti\n",
    "        self.documents = []\n",
    "        self.labels = []\n",
    "        self.vectorizer = None\n",
    "        self.X = None\n",
    "        self.data_train = None\n",
    "        self.labels_train = None\n",
    "        self.data_test = None\n",
    "        self.labels_test = None\n",
    "        self.model = KNeighborsClassifier(n_neighbors=3)\n",
    "\n",
    "    # extract labels (target) and a set of document (each document is a concatenation of a title and a snippet)\n",
    "    def extract_docs_labels(self):\n",
    "        with open(\"{}/news_selected.json\".format(SELECTED_DATA_DIR), \"r\", encoding=\"utf-8\") as f:\n",
    "            news_selected = json.load(f)[\"news\"]\n",
    "            for news in news_selected:\n",
    "                if news[\"category\"] in self.categories:\n",
    "                    # Concatenate title and snippet\n",
    "                    self.documents.append(\"{} {}\".format(news[\"title\"], news[\"snippet\"]))\n",
    "                    self.labels.append(news[\"category\"])\n",
    "                # # newly added for Task 3\n",
    "                # elif self.isMulti:\n",
    "                #     self.documents.append(\"{} {}\".format(news[\"title\"], news[\"snippet\"]))\n",
    "                #     self.labels.append(news[\"category\"])\n",
    "        print(\"=\" * 90)\n",
    "        print(colored(\"Training set has %d documents. Target classes are %s\" % (len(self.documents), set(self.labels)),\"green\"))\n",
    "\n",
    "    # Preprocess the documents\n",
    "    def preprocess_docs(self):\n",
    "        # Because the TfidVectorizer is basically a CountVectorizer followed by TfidfTransformer, which\n",
    "        # considers the the term frequency in all documents, we tried different strategies including\n",
    "        # lemmatization and word stemming with the NLTK libraries. We used the stopwords in NLTK.CORPUS\n",
    "        # also. But It seems that it improved slightly on our documents. Therefore, we simply applied\n",
    "        # the sklearn built-in stopwords and tokenization function. In this project, we chose the minimized\n",
    "        # document frequency to 10\n",
    "        # Also, we should know sklearn has already taken care of case conversion and minimum length filter\n",
    "        self.vectorizer = TfidfVectorizer(stop_words=\"english\", min_df = 10)\n",
    "        self.X = self.vectorizer.fit_transform(self.documents)\n",
    "        terms = self.vectorizer.get_feature_names()\n",
    "        print(colored(\"Vocabulary has %d distinct terms\" % len(terms),\"cyan\"))\n",
    "        # Display a set of sample terms and the shape of the matrix\n",
    "        print(colored(\"A sample terms after preprocessing: From index {} to {}, set: {}\".format(200, 220, terms[200:220]),\"cyan\"))\n",
    "        print(colored(\"A document-term matrix is constructed in a shape of {}\".format(self.X.shape), \"cyan\"))\n",
    "        print(\"-\" * 30)\n",
    "\n",
    "    # train a 3-NN model for classification (simply split dataset into 70% training data and 30% testing data)\n",
    "    def train_model_KNN(self):\n",
    "        print(colored(\"Start training...\", \"yellow\", attrs=['bold']))\n",
    "        self.data_train, self.data_test, self.labels_train, self.labels_test = train_test_split(self.X, self.labels, test_size=0.3)\n",
    "        print(colored(\"Training set has %d examples\" % self.data_train.shape[0],\"cyan\"))\n",
    "        print(colored(\"Test set has %d examples\" % self.data_test.shape[0], \"cyan\"))\n",
    "        # self.model = MultinomialNB(alpha=0.01)\n",
    "        self.model.fit(self.data_train, self.labels_train)\n",
    "        print(colored(\"Model has been trained!\", \"green\", attrs=['bold']))\n",
    "        print(\"-\" * 30)\n",
    "\n",
    "    # evaluation criteria we focus on Accuracy, Precision, Recall, confusion matrix, and f1-measure\n",
    "    def evaluate_model(self):\n",
    "        print(colored(\"Start evaluating...\", \"yellow\", attrs=['bold']))\n",
    "        predicted = self.model.predict(self.data_test)\n",
    "        print(\"Accuracy = %.4f\" % accuracy_score(self.labels_test, predicted))\n",
    "        # calculate the matrix\n",
    "        cm = confusion_matrix(self.labels_test, predicted, labels=self.categories)\n",
    "        # display it graphically\n",
    "        cmd = ConfusionMatrixDisplay(cm, display_labels=self.categories)\n",
    "        cmd.plot()\n",
    "\n",
    "        # print(colored(\"Precision ({}) = {}, Precision ({}) = {}\".format(self.category1, precision_score(self.labels_test, predicted, pos_label=self.category1), self.category2, precision_score(self.labels_test, predicted, pos_label=self.category2)),\"green\"))\n",
    "        # print(colored(\"Recall ({}) = {}, Recall ({}) = {}\" .format(self.category1, recall_score(self.labels_test, predicted, pos_label=self.category1), self.category2, recall_score(self.labels_test, predicted, pos_label=self.category2)), \"green\"))\n",
    "        # print(colored(\"F1 ({}) = {}\".format(self.category1, f1_score(self.labels_test, predicted, pos_label=self.category1)), \"green\"))\n",
    "        # print(colored(\"F1 ({}) = {}\".format(self.category2, f1_score(self.labels_test, predicted, pos_label=self.category2)), \"green\"))\n",
    "\n",
    "        print(classification_report(self.labels_test, predicted, digits=3, target_names=self.categories))\n",
    "\n",
    "    # try different tokenizing strategies\n",
    "    def lemma_tokenizer(self, text):\n",
    "    # use the standard scikit-learn tokenizer first\n",
    "        standard_tokenizer = CountVectorizer().build_tokenizer()\n",
    "        tokens = standard_tokenizer(text)\n",
    "    # then use NLTK to perform lemmatisation on each token\n",
    "        lemmatizer = WordNetLemmatizer()\n",
    "        lemma_tokens = []\n",
    "        for token in tokens:\n",
    "            lemma_tokens.append(lemmatizer.lemmatize(token))\n",
    "        return lemma_tokens\n",
    "\n",
    "    def stem_tokenizer(self, text):\n",
    "    # use the standard scikit-learn tokenizer first\n",
    "        standard_tokenizer = CountVectorizer().build_tokenizer()\n",
    "        tokens = standard_tokenizer(text)\n",
    "    # then use NLTK to perform stemming on each token\n",
    "        stemmer = PorterStemmer()\n",
    "        stems = []\n",
    "        for token in tokens:\n",
    "            stems.append(stemmer.stem(token))\n",
    "        return stems\n",
    "\n",
    "    # for future use\n",
    "    def export_model(self):\n",
    "        pass\n",
    "\n",
    "    # run the binary classifier\n",
    "    def binary_run(self):\n",
    "        self.extract_docs_labels()\n",
    "        self.preprocess_docs()\n",
    "        self.train_model_KNN()\n",
    "        self.evaluate_model()\n",
    "\n",
    "#############################################################################################################################################\n",
    "# code below implement task 3, I found some of the code can be reused in this task, so I didn't create a new class but changed a part of code\n",
    "#############################################################################################################################################\n",
    "\n",
    "    # According to scikit-learn tutorial, a Native Bayes model perform better in text classification\n",
    "    # tasks (simply split dataset into 70% training data and 30% testing data)\n",
    "    def train_model_NB(self):\n",
    "        print(colored(\"Start training...\", \"yellow\", attrs=['bold']))\n",
    "        self.data_train, self.data_test, self.labels_train, self.labels_test = train_test_split(self.X, self.labels, test_size=0.3)\n",
    "        print(colored(\"Training set has %d examples\" % self.data_train.shape[0],\"cyan\"))\n",
    "        print(colored(\"Test set has %d examples\" % self.data_test.shape[0], \"cyan\"))\n",
    "        self.model = MultinomialNB(alpha=0.01)\n",
    "        self.model.fit(self.data_train, self.labels_train)\n",
    "        print(colored(\"Model has been trained!\", \"green\", attrs=['bold']))\n",
    "\n",
    "        # # apply 5-fold cross-validation, measuring accuracy each time\n",
    "        # acc_scores = cross_val_score(self.model, self.X, self.labels, cv=5, scoring=\"accuracy\")\n",
    "        # # represent the results as a Pandas Series\n",
    "        # labels = [\"Fold %d\" % i for i in range(1,len(acc_scores)+1)]\n",
    "        # s_acc = pd.Series(acc_scores, index = labels)\n",
    "        # print(colored(s_acc, \"cyan\"))\n",
    "        # print(colored(\"Mean accuracy: %.4f\" % s_acc.mean(),\"green\"))\n",
    "\n",
    "        print(\"-\" * 30)\n",
    "\n",
    "    def multi_run(self):\n",
    "        self.extract_docs_labels()\n",
    "        self.preprocess_docs()\n",
    "        self.train_model_NB()\n",
    "        self.evaluate_model()\n"
   ],
   "metadata": {
    "collapsed": false,
    "pycharm": {
     "name": "#%% Text classfier class used in Task 2 & 3\n"
    }
   }
  },
  {
   "cell_type": "code",
   "source": [
    "for i in range(0,3):\n",
    "    bClassifier = TextClassifier(CATEGORIES[i%3], CATEGORIES[(i+1)%3])\n",
    "    bClassifier.binary_run()"
   ],
   "metadata": {
    "collapsed": false,
    "pycharm": {
     "name": "#%% do binary classification with 3-NN\n"
    }
   },
   "execution_count": 82,
   "outputs": [
    {
     "name": "stdout",
     "output_type": "stream",
     "text": [
      "==========================================================================================\n",
      "\u001B[32mTraining set has 3625 documents. Target classes are {'Politics', 'Business'}\u001B[0m\n",
      "\u001B[36mVocabulary has 1376 distinct terms\u001B[0m\n",
      "\u001B[36mA sample terms after preprocessing: From index 200 to 220, set: ['candidates', 'capital', 'car', 'carbon', 'care', 'career', 'carlos', 'carmaker', 'cars', 'case', 'cases', 'cash', 'castle', 'cause', 'caused', 'central', 'centre', 'centres', 'century', 'chain']\u001B[0m\n",
      "\u001B[36mA document-term matrix is constructed in a shape of (3625, 1376)\u001B[0m\n",
      "------------------------------\n",
      "\u001B[1m\u001B[33mStart training...\u001B[0m\n",
      "\u001B[36mTraining set has 2537 examples\u001B[0m\n",
      "\u001B[36mTest set has 1088 examples\u001B[0m\n",
      "\u001B[1m\u001B[32mModel has been trained!\u001B[0m\n",
      "------------------------------\n",
      "\u001B[1m\u001B[33mStart evaluating...\u001B[0m\n",
      "Accuracy = 0.8621\n",
      "              precision    recall  f1-score   support\n",
      "\n",
      "    Business      0.881     0.846     0.863       558\n",
      "    Politics      0.844     0.879     0.861       530\n",
      "\n",
      "    accuracy                          0.862      1088\n",
      "   macro avg      0.862     0.863     0.862      1088\n",
      "weighted avg      0.863     0.862     0.862      1088\n",
      "\n",
      "==========================================================================================\n",
      "\u001B[32mTraining set has 3623 documents. Target classes are {'Politics', 'US-News'}\u001B[0m\n",
      "\u001B[36mVocabulary has 1367 distinct terms\u001B[0m\n",
      "\u001B[36mA sample terms after preprocessing: From index 200 to 220, set: ['center', 'central', 'centre', 'certain', 'chair', 'challenge', 'challenger', 'chance', 'chancellor', 'change', 'changes', 'chaos', 'chaotic', 'charged', 'charges', 'checks', 'chief', 'children', 'china', 'chinese']\u001B[0m\n",
      "\u001B[36mA document-term matrix is constructed in a shape of (3623, 1367)\u001B[0m\n",
      "------------------------------\n",
      "\u001B[1m\u001B[33mStart training...\u001B[0m\n",
      "\u001B[36mTraining set has 2536 examples\u001B[0m\n",
      "\u001B[36mTest set has 1087 examples\u001B[0m\n",
      "\u001B[1m\u001B[32mModel has been trained!\u001B[0m\n",
      "------------------------------\n",
      "\u001B[1m\u001B[33mStart evaluating...\u001B[0m\n",
      "Accuracy = 0.9282\n",
      "              precision    recall  f1-score   support\n",
      "\n",
      "    Politics      0.919     0.936     0.927       530\n",
      "     US-News      0.938     0.921     0.929       557\n",
      "\n",
      "    accuracy                          0.928      1087\n",
      "   macro avg      0.928     0.928     0.928      1087\n",
      "weighted avg      0.928     0.928     0.928      1087\n",
      "\n",
      "==========================================================================================\n",
      "\u001B[32mTraining set has 3632 documents. Target classes are {'Business', 'US-News'}\u001B[0m\n",
      "\u001B[36mVocabulary has 1438 distinct terms\u001B[0m\n",
      "\u001B[36mA sample terms after preprocessing: From index 200 to 220, set: ['california', 'called', 'calling', 'calls', 'came', 'campaign', 'cancelled', 'cancels', 'candidate', 'candidates', 'capacity', 'capital', 'capitol', 'car', 'carbon', 'care', 'carlos', 'carmaker', 'carolina', 'cars']\u001B[0m\n",
      "\u001B[36mA document-term matrix is constructed in a shape of (3632, 1438)\u001B[0m\n",
      "------------------------------\n",
      "\u001B[1m\u001B[33mStart training...\u001B[0m\n",
      "\u001B[36mTraining set has 2542 examples\u001B[0m\n",
      "\u001B[36mTest set has 1090 examples\u001B[0m\n",
      "\u001B[1m\u001B[32mModel has been trained!\u001B[0m\n",
      "------------------------------\n",
      "\u001B[1m\u001B[33mStart evaluating...\u001B[0m\n",
      "Accuracy = 0.9220\n",
      "              precision    recall  f1-score   support\n",
      "\n",
      "     US-News      0.921     0.923     0.922       546\n",
      "    Business      0.923     0.921     0.922       544\n",
      "\n",
      "    accuracy                          0.922      1090\n",
      "   macro avg      0.922     0.922     0.922      1090\n",
      "weighted avg      0.922     0.922     0.922      1090\n",
      "\n"
     ]
    },
    {
     "data": {
      "text/plain": "<Figure size 432x288 with 2 Axes>",
      "image/png": "[encoded data removed]"
     },
     "metadata": {
      "needs_background": "light"
     },
     "output_type": "display_data"
    },
    {
     "data": {
      "text/plain": "<Figure size 432x288 with 2 Axes>",
      "image/png": "[encoded data removed]"
     },
     "metadata": {
      "needs_background": "light"
     },
     "output_type": "display_data"
    },
    {
     "data": {
      "text/plain": "<Figure size 432x288 with 2 Axes>",
      "image/png": "[encoded data removed]"
     },
     "metadata": {
      "needs_background": "light"
     },
     "output_type": "display_data"
    }
   ]
  },
  {
   "cell_type": "markdown",
   "source": [
    "##### Discussion and Conclusion (Task 2):\n",
    "\n",
    "The model performs the best on the classification of \"Politics\" and \"US-News\",\n",
    "where Accuracy = , Precision = , Recall = , F1-measure =\n",
    "\n",
    "We select xxx as our main criteria to examine the model\n",
    "XXX has potential to improve the\n",
    "\n",
    "---"
   ],
   "metadata": {
    "collapsed": false,
    "pycharm": {
     "name": "#%% md\n"
    }
   }
  },
  {
   "cell_type": "markdown",
   "source": [
    "### Task 3. Multi-Class Text Classification\n",
    "1. Using all three categories (A,B,C) that you have selected:\n",
    "    1. Apply appropriate preprocessing steps to create a numeric representation of the documents\n",
    "    for these three categories, suitable for classification.\n",
    "    2. Train a classification model using a multi-class classifier of your choice,\n",
    "    which can distinguish documents from the categories A, B, and C.\n",
    "    3. Test the predictions of the classification model using an appropriate evaluation strategy.\n",
    "    Report and discuss the evaluation results.\n"
   ],
   "metadata": {
    "collapsed": false,
    "pycharm": {
     "name": "#%% md\n"
    }
   }
  },
  {
   "cell_type": "code",
   "execution_count": 83,
   "outputs": [
    {
     "name": "stdout",
     "output_type": "stream",
     "text": [
      "==========================================================================================\n",
      "\u001B[32mTraining set has 5440 documents. Target classes are {'Politics', 'Business', 'US-News'}\u001B[0m\n",
      "\u001B[36mVocabulary has 2032 distinct terms\u001B[0m\n",
      "\u001B[36mA sample terms after preprocessing: From index 200 to 220, set: ['barr', 'barrett', 'bars', 'based', 'baseless', 'battle', 'battles', 'bbc', 'beat', 'began', 'begin', 'beginning', 'begins', 'begun', 'believe', 'ben', 'benefits', 'bernie', 'best', 'better']\u001B[0m\n",
      "\u001B[36mA document-term matrix is constructed in a shape of (5440, 2032)\u001B[0m\n",
      "------------------------------\n",
      "\u001B[1m\u001B[33mStart training...\u001B[0m\n",
      "\u001B[36mTraining set has 3808 examples\u001B[0m\n",
      "\u001B[36mTest set has 1632 examples\u001B[0m\n",
      "\u001B[1m\u001B[32mModel has been trained!\u001B[0m\n",
      "------------------------------\n",
      "\u001B[1m\u001B[33mStart evaluating...\u001B[0m\n",
      "Accuracy = 0.8909\n",
      "              precision    recall  f1-score   support\n",
      "\n",
      "    Business      0.859     0.871     0.865       552\n",
      "    Politics      0.875     0.908     0.891       532\n",
      "     US-News      0.942     0.894     0.918       548\n",
      "\n",
      "    accuracy                          0.891      1632\n",
      "   macro avg      0.892     0.891     0.891      1632\n",
      "weighted avg      0.892     0.891     0.891      1632\n",
      "\n"
     ]
    },
    {
     "data": {
      "text/plain": "<Figure size 432x288 with 2 Axes>",
      "image/png": "[encoded data removed]"
     },
     "metadata": {
      "needs_background": "light"
     },
     "output_type": "display_data"
    }
   ],
   "source": [
    "mClassifier = TextClassifier(isMulti=True)\n",
    "mClassifier.multi_run()"
   ],
   "metadata": {
    "collapsed": false,
    "pycharm": {
     "name": "#%% do multi-class classfication with Native Bayes\n"
    }
   }
  },
  {
   "cell_type": "markdown",
   "source": [
    "##### Discussion and Conclusion (Task 3):"
   ],
   "metadata": {
    "collapsed": false,
    "pycharm": {
     "name": "#%% md\n"
    }
   }
  }
 ],
 "metadata": {
  "kernelspec": {
   "display_name": "Python 3",
   "language": "python",
   "name": "python3"
  },
  "language_info": {
   "codemirror_mode": {
    "name": "ipython",
    "version": 3
   },
   "file_extension": ".py",
   "mimetype": "text/x-python",
   "name": "python",
   "nbconvert_exporter": "python",
   "pygments_lexer": "ipython3",
   "version": "3.8.5"
  }
 },
 "nbformat": 4,
 "nbformat_minor": 1
}